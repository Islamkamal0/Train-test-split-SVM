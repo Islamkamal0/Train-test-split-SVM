{
  "nbformat": 4,
  "nbformat_minor": 0,
  "metadata": {
    "colab": {
      "provenance": []
    },
    "kernelspec": {
      "name": "python3",
      "display_name": "Python 3"
    },
    "language_info": {
      "name": "python"
    }
  },
  "cells": [
    {
      "cell_type": "markdown",
      "source": [
        "**Imports**"
      ],
      "metadata": {
        "id": "03VDFI1bp4e_"
      }
    },
    {
      "cell_type": "code",
      "execution_count": null,
      "metadata": {
        "id": "67QFITu1p1EQ"
      },
      "outputs": [],
      "source": [
        "from sklearn import datasets\n",
        "import numpy as np\n",
        "from sklearn.model_selection import train_test_split\n",
        "from sklearn import svm\n",
        "from sklearn.metrics import accuracy_score"
      ]
    },
    {
      "cell_type": "code",
      "source": [
        "iris = datasets.load_iris()\n"
      ],
      "metadata": {
        "id": "83i8lSnup4A_"
      },
      "execution_count": null,
      "outputs": []
    },
    {
      "cell_type": "markdown",
      "source": [
        "**split it in features and labels**"
      ],
      "metadata": {
        "id": "WRTkZ6GcqBao"
      }
    },
    {
      "cell_type": "code",
      "source": [
        "x=iris.data\n",
        "y=iris.target"
      ],
      "metadata": {
        "id": "sKECIIzep9qj"
      },
      "execution_count": null,
      "outputs": []
    },
    {
      "cell_type": "code",
      "source": [
        "classes = ['iris setosa','iris versicolour','iris virginica']\n",
        "\n",
        "print(x.shape)\n",
        "print(y.shape)"
      ],
      "metadata": {
        "colab": {
          "base_uri": "https://localhost:8080/"
        },
        "id": "xMFSdbQ5qD4S",
        "outputId": "d42005fd-2940-4ea0-8680-3544cf3a5971"
      },
      "execution_count": null,
      "outputs": [
        {
          "output_type": "stream",
          "name": "stdout",
          "text": [
            "(150, 4)\n",
            "(150,)\n"
          ]
        }
      ]
    },
    {
      "cell_type": "markdown",
      "source": [
        "**Creating model**"
      ],
      "metadata": {
        "id": "gUFL2GY4qqO9"
      }
    },
    {
      "cell_type": "code",
      "source": [
        "x_train, x_test, y_train, y_test = train_test_split(x,y,test_size=0.2)\n",
        "\n",
        "model = svm.SVC()\n",
        "model.fit(x_train,y_train)\n",
        "\n",
        "print(model)"
      ],
      "metadata": {
        "colab": {
          "base_uri": "https://localhost:8080/"
        },
        "id": "2TY_cxoWqMKw",
        "outputId": "6ed3fb37-af60-44e1-d988-3a12e2d742e4"
      },
      "execution_count": null,
      "outputs": [
        {
          "output_type": "stream",
          "name": "stdout",
          "text": [
            "SVC()\n"
          ]
        }
      ]
    },
    {
      "cell_type": "code",
      "source": [
        "predictions = model.predict(x_test)\n",
        "acc = accuracy_score(y_test, predictions)\n",
        "print(\"predictions: \", predictions)\n",
        "print(\"actual: \", y_test)\n",
        "print(\"accuracy: \", acc)"
      ],
      "metadata": {
        "colab": {
          "base_uri": "https://localhost:8080/"
        },
        "id": "UxPTyNSpqZo0",
        "outputId": "1e3d6f99-99f0-4e86-9e7d-b64dbffb1789"
      },
      "execution_count": null,
      "outputs": [
        {
          "output_type": "stream",
          "name": "stdout",
          "text": [
            "predictions:  [2 1 0 2 0 0 1 0 1 2 2 0 2 1 0 2 1 0 1 2 0 0 0 0 2 0 2 2 2 1]\n",
            "actual:  [2 1 0 2 0 0 1 0 1 2 2 0 2 1 0 2 1 0 1 2 0 0 0 0 2 0 2 2 2 1]\n",
            "accuracy:  1.0\n"
          ]
        }
      ]
    },
    {
      "cell_type": "code",
      "source": [
        "for i in range(len(predictions)):\n",
        "    print(classes[predictions[i]])"
      ],
      "metadata": {
        "colab": {
          "base_uri": "https://localhost:8080/"
        },
        "id": "WY032HK2qbri",
        "outputId": "36e2b21f-45a6-49d8-a1b5-1b196f0468eb"
      },
      "execution_count": null,
      "outputs": [
        {
          "output_type": "stream",
          "name": "stdout",
          "text": [
            "iris virginica\n",
            "iris versicolour\n",
            "iris setosa\n",
            "iris virginica\n",
            "iris setosa\n",
            "iris setosa\n",
            "iris versicolour\n",
            "iris setosa\n",
            "iris versicolour\n",
            "iris virginica\n",
            "iris virginica\n",
            "iris setosa\n",
            "iris virginica\n",
            "iris versicolour\n",
            "iris setosa\n",
            "iris virginica\n",
            "iris versicolour\n",
            "iris setosa\n",
            "iris versicolour\n",
            "iris virginica\n",
            "iris setosa\n",
            "iris setosa\n",
            "iris setosa\n",
            "iris setosa\n",
            "iris virginica\n",
            "iris setosa\n",
            "iris virginica\n",
            "iris virginica\n",
            "iris virginica\n",
            "iris versicolour\n"
          ]
        }
      ]
    },
    {
      "cell_type": "code",
      "source": [
        "print(x_train.shape)\n",
        "print(x_test.shape)\n",
        "print(y_train.shape)\n",
        "print(y_test.shape)"
      ],
      "metadata": {
        "colab": {
          "base_uri": "https://localhost:8080/"
        },
        "id": "QONrK6h5qeae",
        "outputId": "0674747c-00d7-45c5-8fa9-31fe130b6836"
      },
      "execution_count": null,
      "outputs": [
        {
          "output_type": "stream",
          "name": "stdout",
          "text": [
            "(120, 4)\n",
            "(30, 4)\n",
            "(120,)\n",
            "(30,)\n"
          ]
        }
      ]
    },
    {
      "cell_type": "code",
      "source": [],
      "metadata": {
        "id": "a8PJIKexqiBr"
      },
      "execution_count": null,
      "outputs": []
    }
  ]
}